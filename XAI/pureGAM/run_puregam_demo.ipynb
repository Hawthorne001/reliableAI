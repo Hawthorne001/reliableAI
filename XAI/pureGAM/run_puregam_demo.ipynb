{
 "cells": [
  {
   "cell_type": "code",
   "execution_count": 1,
   "metadata": {},
   "outputs": [],
   "source": [
    "import numpy as np\n",
    "import pandas as pd\n",
    "from sklearn.model_selection import train_test_split\n",
    "from sklearn.preprocessing import MinMaxScaler\n",
    "import torch\n",
    "import seaborn as sns\n",
    "import matplotlib.pyplot as plt\n",
    "from experiments.run_experiment_realdata import run_pureGam\n",
    "from torch_utils.dataset_util import PureGamDataset, PureGamDataset_smoothingInTraining\n",
    "device = torch.device(\"cuda:0\" if torch.cuda.is_available() else \"cpu\")"
   ]
  },
  {
   "cell_type": "code",
   "execution_count": 2,
   "metadata": {},
   "outputs": [
    {
     "name": "stdout",
     "output_type": "stream",
     "text": [
      "load data from :: ./realdata/airfoil.csv\n"
     ]
    }
   ],
   "source": [
    "# todo: airfoil\n",
    "seed = 1234\n",
    "base_dir = \"./\"\n",
    "dataset_name = \"airfoil\"\n",
    "# dataset_name = \"flat_dirichlet_generate\"\n",
    "model_output_dir = \"../model_save/realdata/\" + dataset_name + \"/\"\n",
    "base_results_folder = results_folder = 'results_' + str(seed) + '/' + dataset_name\n",
    "\n",
    "# Load Data from dataset\n",
    "df = pd.read_csv(base_dir + \"realdata/\" + dataset_name + \".csv\")\n",
    "print(\"load data from ::\", base_dir + \"realdata/\" + dataset_name + \".csv\")\n",
    "\n",
    "# \"HoursPerWeek\",\"TotalHours\", carry ?\"Age\",\"APM\"\n",
    "\n",
    "X_num = df.loc[:, [\"in1\", \"in2\", \"in3\", \"in4\", \"in5\"]].values\n",
    "X_cate = df.loc[:, []].values\n",
    "# \"L3\",\"L4\",\"L5\"\n",
    "y = df.loc[:, [\"out\"]].values\n",
    "sy = MinMaxScaler((0, 1))\n",
    "y = sy.fit_transform(y)\n",
    "# run_pureGam_gami_kfold(X_num, X_cate, y, base_results_folder, seed=seed)\n"
   ]
  },
  {
   "cell_type": "code",
   "execution_count": 3,
   "metadata": {},
   "outputs": [
    {
     "name": "stdout",
     "output_type": "stream",
     "text": [
      "&&&& Device USED :: cuda:0\n",
      "Full Interaction [[0, 1], [0, 2], [0, 3], [0, 4], [1, 2], [1, 3], [1, 4], [2, 3], [2, 4], [3, 4]]\n",
      "Full Interaction []\n",
      "{*} Model Size 10286\n",
      "Param:: tensor([[5.0000e+02, 6.7000e+00, 1.0160e-01, 3.9600e+01, 5.7808e-03],\n",
      "        [8.0000e+03, 4.8000e+00, 2.5400e-02, 3.1700e+01, 9.3079e-04],\n",
      "        [8.0000e+03, 1.5000e+00, 3.0480e-01, 7.1300e+01, 3.3673e-03],\n",
      "        [3.1500e+03, 1.7400e+01, 2.5400e-02, 3.1700e+01, 1.7663e-02],\n",
      "        [6.3000e+03, 1.0000e-12, 5.0800e-02, 3.9600e+01, 7.9182e-04],\n",
      "        [1.0000e+03, 1.0000e-12, 1.5240e-01, 3.1700e+01, 2.0941e-03],\n",
      "        [1.6000e+03, 1.0000e-12, 5.0800e-02, 3.9600e+01, 7.9182e-04],\n",
      "        [1.6000e+03, 1.0000e-12, 5.0800e-02, 7.1300e+01, 7.4048e-04],\n",
      "        [8.0000e+03, 1.0000e-12, 1.0160e-01, 3.1700e+01, 1.5009e-03],\n",
      "        [5.0000e+03, 8.9000e+00, 1.0160e-01, 7.1300e+01, 1.0309e-02]],\n",
      "       device='cuda:0', dtype=torch.float64, grad_fn=<SliceBackward0>) tensor([[1.2500e+03, 7.3000e+00, 2.2860e-01, 7.1300e+01, 1.0440e-02],\n",
      "        [6.3000e+03, 1.5000e+00, 3.0480e-01, 3.9600e+01, 3.9211e-03],\n",
      "        [5.0000e+03, 1.5000e+00, 3.0480e-01, 7.1300e+01, 3.3673e-03],\n",
      "        [3.1500e+03, 8.4000e+00, 5.0800e-02, 3.9600e+01, 5.6623e-03],\n",
      "        [1.2500e+03, 1.5600e+01, 1.0160e-01, 3.9600e+01, 5.2849e-02],\n",
      "        [4.0000e+03, 7.3000e+00, 2.2860e-01, 7.1300e+01, 1.0440e-02],\n",
      "        [2.0000e+03, 4.8000e+00, 2.5400e-02, 7.1300e+01, 8.4863e-04],\n",
      "        [1.0000e+04, 1.0000e-12, 5.0800e-02, 3.1700e+01, 8.1216e-04],\n",
      "        [6.3000e+03, 9.9000e+00, 1.5240e-01, 3.1700e+01, 2.5279e-02],\n",
      "        [3.1500e+03, 1.2300e+01, 1.0160e-01, 7.1300e+01, 3.3779e-02]],\n",
      "       device='cuda:0', dtype=torch.float64, grad_fn=<SliceBackward0>)\n",
      "time :  20.213742971420288\n",
      "Epoch 86  is ::: \n",
      "     train: [0.01828 0.      0.      0.00111] 0.0194\n",
      "          [ 4.5598e-01  1.6000e-03 -1.3000e-04  3.5300e-03  2.5380e-02]\n",
      "     valid: [0.02414 0.      0.      0.00038] 0.02452\n",
      "          [ 0.29203  0.00123 -0.00036  0.00232  0.01673]\n",
      "time :  20.093989372253418\n",
      "Epoch 179  is ::: \n",
      "     train: [0.01508 0.      0.      0.00087] 0.01596\n",
      "          [ 0.55112  0.00189 -0.00073  0.00293  0.0266 ]\n",
      "     valid: [0.0218  0.      0.      0.00041] 0.02221\n",
      "          [ 3.605e-01  1.410e-03 -2.000e-04  2.100e-03  3.300e-02]\n",
      "time :  20.15875744819641\n",
      "Epoch 253  is ::: \n",
      "     train: [0.01314 0.      0.      0.00076] 0.0139\n",
      "          [ 6.0903e-01  2.4100e-03 -2.9000e-04  2.8700e-03  2.6360e-02]\n",
      "     valid: [0.01841 0.      0.      0.00049] 0.0189\n",
      "          [ 4.6001e-01  2.0400e-03 -1.5000e-04  2.2700e-03  4.1870e-02]\n",
      "time :  20.01267433166504\n",
      "Epoch 332  is ::: \n",
      "     train: [0.00999 0.      0.      0.00098] 0.01098\n",
      "          [ 7.0263e-01  2.5000e-03 -1.8000e-04  3.2900e-03  3.0320e-02]\n",
      "     valid: [0.01553 0.      0.      0.00059] 0.01612\n",
      "          [ 5.4437e-01  2.3700e-03 -2.3000e-04  2.5300e-03  4.5060e-02]\n",
      "time :  20.15038514137268\n",
      "Epoch 409  is ::: \n",
      "     train: [0.00896 0.      0.      0.00079] 0.00975\n",
      "          [ 0.7335   0.00263 -0.00137  0.00302  0.03726]\n",
      "     valid: [0.01307 0.      0.      0.0006 ] 0.01367\n",
      "          [ 6.1677e-01  2.3700e-03 -5.8000e-04  2.4700e-03  4.6630e-02]\n",
      "time :  20.104432821273804\n",
      "Epoch 492  is ::: \n",
      "     train: [0.00638 0.      0.      0.00102] 0.0074\n",
      "          [ 8.1015e-01  9.1000e-04 -4.8000e-04  3.0600e-03  3.2160e-02]\n",
      "     valid: [0.01192 0.      0.      0.00068] 0.01261\n",
      "          [ 6.5023e-01  2.2700e-03 -5.9000e-04  2.5400e-03  4.7070e-02]\n",
      "time :  20.040822744369507\n",
      "Epoch 581  is ::: \n",
      "     train: [6.32e-03 1.00e-05 0.00e+00 9.10e-04] 0.00724\n",
      "          [8.1188e-01 3.4000e-04 3.6000e-04 2.8300e-03 3.5540e-02]\n",
      "     valid: [0.01107 0.      0.      0.00072] 0.01179\n",
      "          [ 6.7538e-01  2.2400e-03 -5.2000e-04  2.5500e-03  4.8160e-02]\n",
      "time :  20.159998416900635\n",
      "Epoch 664  is ::: \n",
      "     train: [0.00565 0.      0.      0.00111] 0.00676\n",
      "          [ 8.3194e-01  5.9000e-04 -2.9000e-04  2.9000e-03  3.7670e-02]\n",
      "     valid: [0.01062 0.      0.      0.00077] 0.0114\n",
      "          [ 6.8855e-01  2.2400e-03 -4.9000e-04  2.6200e-03  4.8770e-02]\n",
      "time :  20.170021295547485\n",
      "Epoch 753  is ::: \n",
      "     train: [0.0055  0.      0.      0.00068] 0.00619\n",
      "          [ 8.3622e-01  8.1000e-04 -4.1000e-04  2.3900e-03  4.0960e-02]\n",
      "     valid: [0.01029 0.      0.      0.0008 ] 0.0111\n",
      "          [ 6.9804e-01  1.9000e-03 -6.2000e-04  2.5800e-03  4.7410e-02]\n",
      "time :  20.2199923992157\n",
      "Epoch 833  is ::: \n",
      "     train: [0.00477 0.      0.      0.00089] 0.00567\n",
      "          [ 8.5812e-01 -8.9000e-04  1.0000e-04  2.5900e-03  4.5940e-02]\n",
      "     valid: [0.00998 0.      0.      0.00086] 0.01085\n",
      "          [ 7.0721e-01  1.8300e-03 -5.3000e-04  2.5900e-03  4.9470e-02]\n",
      "time :  20.16709017753601\n",
      "Epoch 910  is ::: \n",
      "     train: [0.00592 0.      0.      0.00079] 0.00671\n",
      "          [ 8.2388e-01  1.1000e-04 -1.9000e-04  2.3600e-03  3.6270e-02]\n",
      "     valid: [0.00948 0.      0.      0.00087] 0.01036\n",
      "          [ 7.2185e-01  1.6200e-03 -5.9000e-04  2.5600e-03  4.8580e-02]\n",
      "time :  20.060662269592285\n",
      "Epoch 1004  is ::: \n",
      "     train: [0.00459 0.      0.      0.00094] 0.00554\n",
      "          [ 8.633e-01  1.990e-03 -3.200e-04  2.880e-03  4.007e-02]\n",
      "     valid: [0.00866 0.      0.      0.00087] 0.00953\n",
      "          [ 7.4612e-01  1.4600e-03 -5.7000e-04  2.7300e-03  4.5960e-02]\n",
      "time :  20.151253938674927\n",
      "Epoch 1087  is ::: \n",
      "     train: [3.88e-03 1.00e-05 0.00e+00 7.00e-04] 0.0046\n",
      "          [ 8.844e-01  3.400e-04 -4.200e-04  2.410e-03  3.774e-02]\n",
      "     valid: [0.00825 0.      0.      0.00088] 0.00914\n",
      "          [ 7.5808e-01  1.4200e-03 -4.9000e-04  2.8000e-03  4.4320e-02]\n",
      "time :  20.058927059173584\n",
      "Epoch 1170  is ::: \n",
      "     train: [3.5e-03 1.0e-05 0.0e+00 8.3e-04] 0.00434\n",
      "          [ 8.9578e-01  9.2000e-04 -4.1000e-04  2.4800e-03  4.3320e-02]\n",
      "     valid: [0.00791 0.      0.      0.00085] 0.00876\n",
      "          [ 7.681e-01  1.750e-03 -4.800e-04  2.850e-03  4.135e-02]\n",
      "time :  20.224788904190063\n",
      "Epoch 1259  is ::: \n",
      "     train: [0.00409 0.      0.      0.00067] 0.00477\n",
      "          [ 8.7831e-01  6.9000e-04 -2.2000e-04  2.3300e-03  3.5720e-02]\n",
      "     valid: [0.00838 0.      0.      0.0008 ] 0.00918\n",
      "          [ 7.5422e-01  1.4500e-03 -4.0000e-04  2.7600e-03  3.7950e-02]\n",
      "time :  20.456215143203735\n",
      "Epoch 1345  is ::: \n",
      "     train: [0.00362 0.      0.      0.00106] 0.00468\n",
      "          [ 8.9229e-01  1.7600e-03 -1.6000e-04  2.8800e-03  3.0060e-02]\n",
      "     valid: [0.00769 0.      0.      0.00082] 0.00851\n",
      "          [ 7.7451e-01  1.7100e-03 -3.0000e-04  2.9100e-03  3.5720e-02]\n",
      "time :  20.127888202667236\n",
      "Epoch 1435  is ::: \n",
      "     train: [0.00364 0.      0.      0.00088] 0.00453\n",
      "          [ 8.9169e-01 -6.4000e-04  8.0000e-05  2.8200e-03  2.6950e-02]\n",
      "     valid: [0.00759 0.      0.      0.00081] 0.00841\n",
      "          [ 7.7729e-01  1.7900e-03 -3.8000e-04  2.9500e-03  3.3020e-02]\n",
      "time :  20.015687704086304\n",
      "Epoch 1522  is ::: \n",
      "     train: [0.00359 0.      0.      0.00086] 0.00446\n",
      "          [ 8.9306e-01  4.9000e-04 -2.7000e-04  2.6700e-03  4.1740e-02]\n",
      "     valid: [0.00736 0.      0.      0.00078] 0.00814\n",
      "          [ 7.8411e-01  1.5600e-03 -4.6000e-04  2.8800e-03  3.0780e-02]\n",
      "time :  20.054631233215332\n",
      "Epoch 1603  is ::: \n",
      "     train: [0.00333 0.      0.      0.00082] 0.00416\n",
      "          [ 9.0099e-01  1.8700e-03 -1.0000e-04  2.5900e-03  4.9030e-02]\n",
      "     valid: [0.00734 0.      0.      0.00082] 0.00816\n",
      "          [ 7.8479e-01  1.4900e-03 -2.9000e-04  3.0200e-03  3.0660e-02]\n",
      "time :  20.184788703918457\n",
      "Epoch 1694  is ::: \n",
      "     train: [0.00299 0.      0.      0.00058] 0.00358\n",
      "          [9.1088e-01 6.6000e-04 3.0000e-05 2.2800e-03 3.3360e-02]\n",
      "     valid: [0.00725 0.      0.      0.0008 ] 0.00805\n",
      "          [ 7.8723e-01  1.7200e-03 -3.6000e-04  2.9700e-03  3.1220e-02]\n",
      "Early Stopped\n",
      "[Info] Load model from ....    model_save/realdata/airfoil/model_1631\n",
      "Best Model Is IN ::  model_save/realdata/airfoil/model_1631\n",
      "@@@ Best Epoch 1631  is ::: \n",
      "time -13.768643617630005\n",
      "     train: [0.0037 0.     0.     0.0009] 0.0046\n",
      "          [ 8.8979e-01  1.5400e-03 -7.1000e-04  2.8500e-03  3.3650e-02]\n",
      "     valid: [0.00718 0.      0.      0.00077] 0.00796\n",
      "          [ 7.8948e-01  1.5900e-03 -5.6000e-04  2.9300e-03  3.1160e-02]\n",
      "### {AS} Params of Adaptive Smoothing\n",
      "lam_univ::= tensor([0.5000, 0.2490, 0.0186, 0.5000, 0.0052], device='cuda:0',\n",
      "       dtype=torch.float64)\n",
      "lam_biv::= tensor([0.8312, 0.0207, 0.7000, 0.0011, 0.5694, 0.2376, 0.5885, 0.0786, 0.2750,\n",
      "        0.4399], device='cuda:0', dtype=torch.float64)\n",
      "Total predict time 0.02973794937133789\n",
      "Total predict time 0.21110296249389648\n",
      "1352 151\n",
      "1352 151\n",
      "tensor([0.5000, 0.2490, 0.0186, 0.5000, 0.0052], device='cuda:0',\n",
      "       dtype=torch.float64)\n",
      "tensor([0.8312, 0.0207, 0.7000, 0.0011, 0.5694, 0.2376, 0.5885, 0.0786, 0.2750,\n",
      "        0.4399], device='cuda:0', dtype=torch.float64)\n",
      "* Interaction_list [(0, 1), (0, 2), (0, 3), (0, 4), (1, 2), (1, 3), (1, 4), (2, 3), (2, 4), (3, 4)]\n"
     ]
    },
    {
     "name": "stderr",
     "output_type": "stream",
     "text": [
      "/gpfs/ysm/home/xs272/reliableAI/XAI/pureGAM/metrics/metrics_torch.py:43: UserWarning: To copy construct from a tensor, it is recommended to use sourceTensor.clone().detach() or sourceTensor.clone().detach().requires_grad_(True), rather than torch.tensor(sourceTensor).\n",
      "  denom = th.square(th.tensor(INT)).mean().item()\n",
      "/gpfs/ysm/home/xs272/reliableAI/XAI/pureGAM/metrics/metrics_torch.py:55: UserWarning: To copy construct from a tensor, it is recommended to use sourceTensor.clone().detach() or sourceTensor.clone().detach().requires_grad_(True), rather than torch.tensor(sourceTensor).\n",
      "  denom = th.square(th.tensor(int_pred[i])).mean().item()\n"
     ]
    },
    {
     "name": "stdout",
     "output_type": "stream",
     "text": [
      "compute pureness score : 1.018880844116211\n",
      "                     train      test\n",
      "r2                0.879713  0.816475\n",
      "mse               0.004054  0.006046\n",
      "time            407.112073  0.029769\n",
      "log_pure_score    0.000000 -1.465146\n"
     ]
    }
   ],
   "source": [
    "X_num_train, X_num_test, X_cate_train, X_cate_test, y_train, y_test = train_test_split(X_num, X_cate, y, test_size=0.1, random_state=seed)\n",
    "results_folder = \"results/\" + dataset_name\n",
    "pureGam = run_pureGam(X_num_train, X_cate_train, y_train, X_num_test, X_cate_test, y_test,\n",
    "                        results_folder=results_folder + '/' + 'pureGam', isPureScore=True, seed=seed, model_output_dir='model_save/realdata/airfoil/')"
   ]
  },
  {
   "cell_type": "code",
   "execution_count": 4,
   "metadata": {},
   "outputs": [],
   "source": [
    "batch_scale = 4\n",
    "N_param_scale = 0.5# todo: 0.5\n",
    "kwargs = {}\n",
    "train_loader = torch.utils.data.DataLoader(PureGamDataset_smoothingInTraining(\n",
    "    X_cate, torch.tensor(X_num).to(device), torch.tensor(y).to(device)),\n",
    "    batch_size=int(batch_scale * 128), shuffle=False, **kwargs)\n",
    "\n",
    "all_contri_univ = []\n",
    "all_contri_biv = []\n",
    "for _, batch_N_X, _ in train_loader:\n",
    "    with torch.no_grad():\n",
    "        y_hat_S, contri_mat_univ, contri_mat_biv, _, _, _ = pureGam.predict_batch_numerical(batch_N_X)\n",
    "        all_contri_univ.append(contri_mat_univ.cpu().numpy().T)\n",
    "        all_contri_biv.append(contri_mat_biv.cpu().numpy().T)\n",
    "\n",
    "contri_univ = np.concatenate(all_contri_univ)\n",
    "contri_biv = np.concatenate(all_contri_biv)\n",
    "contri = np.c_[contri_univ, contri_biv]"
   ]
  },
  {
   "cell_type": "code",
   "execution_count": 5,
   "metadata": {},
   "outputs": [
    {
     "data": {
      "text/plain": [
       "<AxesSubplot:>"
      ]
     },
     "execution_count": 5,
     "metadata": {},
     "output_type": "execute_result"
    },
    {
     "data": {
      "image/png": "[encoded data removed]",
      "text/plain": [
       "<Figure size 432x288 with 2 Axes>"
      ]
     },
     "metadata": {
      "needs_background": "light"
     },
     "output_type": "display_data"
    }
   ],
   "source": [
    "sns.heatmap(contri_univ.T @ contri_univ, mask=None, annot=True, center=0., linewidths=0.1, cmap=\"coolwarm\")"
   ]
  },
  {
   "cell_type": "code",
   "execution_count": 6,
   "metadata": {},
   "outputs": [
    {
     "data": {
      "text/plain": [
       "<AxesSubplot:>"
      ]
     },
     "execution_count": 6,
     "metadata": {},
     "output_type": "execute_result"
    },
    {
     "data": {
      "image/png": "[encoded data removed]",
      "text/plain": [
       "<Figure size 432x288 with 2 Axes>"
      ]
     },
     "metadata": {
      "needs_background": "light"
     },
     "output_type": "display_data"
    }
   ],
   "source": [
    "sns.heatmap(contri_biv.T @ contri_biv, mask=None, annot=False, center=0., linewidths=0., cmap=\"coolwarm\")"
   ]
  },
  {
   "cell_type": "code",
   "execution_count": 7,
   "metadata": {},
   "outputs": [
    {
     "name": "stderr",
     "output_type": "stream",
     "text": [
      "/tmp/tmp.KHh4vP4VIF/ipykernel_8248/756916684.py:8: UserWarning: The following kwargs were not used by contour: 'center'\n",
      "  contour = plt.tricontourf(expl_x1,expl_x2,expl_y, 100, center=0., cmap=\"coolwarm\")\n"
     ]
    },
    {
     "data": {
      "image/png": "[encoded data removed]",
      "text/plain": [
       "<Figure size 432x288 with 2 Axes>"
      ]
     },
     "metadata": {
      "needs_background": "light"
     },
     "output_type": "display_data"
    }
   ],
   "source": [
    "biv_cov_mat = contri_biv.T @ contri_biv\n",
    "ind = biv_cov_mat.sum(axis=0).argsort()[-1]\n",
    "[ind1, ind2] = pureGam.pairwise_idxes_num[ind]\n",
    "expl_x1 = X_num[:, ind1]\n",
    "expl_x2 = X_num[:, ind2]\n",
    "expl_y = contri_biv[:, ind] / sy.scale_\n",
    "fig = plt.figure()\n",
    "contour = plt.tricontourf(expl_x1,expl_x2,expl_y, 100, center=0., cmap=\"coolwarm\")\n",
    "plt.colorbar()\n",
    "plt.show()"
   ]
  }
 ],
 "metadata": {
  "kernelspec": {
   "display_name": "Python 3.10.4 ('sc')",
   "language": "python",
   "name": "python3"
  },
  "language_info": {
   "codemirror_mode": {
    "name": "ipython",
    "version": 3
   },
   "file_extension": ".py",
   "mimetype": "text/x-python",
   "name": "python",
   "nbconvert_exporter": "python",
   "pygments_lexer": "ipython3",
   "version": "3.10.4"
  },
  "orig_nbformat": 4,
  "vscode": {
   "interpreter": {
    "hash": "589acb37ac91c99c4ae72afb74d33f815c06b03e5666438e0937634c624ad4f7"
   }
  }
 },
 "nbformat": 4,
 "nbformat_minor": 2
}
